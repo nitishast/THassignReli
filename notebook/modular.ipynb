{
 "cells": [
  {
   "cell_type": "code",
   "execution_count": 1,
   "metadata": {},
   "outputs": [],
   "source": [
    "import pandas as pd\n",
    "import yfinance as yf\n",
    "from bs4 import BeautifulSoup\n",
    "import requests\n",
    "\n",
    "def get_sp500_tickers():\n",
    "    url = 'https://en.wikipedia.org/wiki/List_of_S%26P_500_companies'\n",
    "    response = requests.get(url)\n",
    "    soup = BeautifulSoup(response.text, 'html.parser')\n",
    "    table = soup.find('table', {'class': 'wikitable sortable'})\n",
    "    tickers = []\n",
    "    for row in table.find_all('tr')[1:]:\n",
    "        ticker = row.find_all('td')[0].text.strip()\n",
    "        tickers.append(ticker)\n",
    "    return tickers\n",
    "\n",
    "def load_data(tickers, start_date, end_date):\n",
    "    data = pd.DataFrame()\n",
    "    for ticker in tickers:\n",
    "        stock_data = yf.download(ticker, start=start_date, end=end_date)\n",
    "        stock_data['Ticker'] = ticker\n",
    "        data = pd.concat([data, stock_data], ignore_index=True)\n",
    "    return data"
   ]
  },
  {
   "cell_type": "code",
   "execution_count": 2,
   "metadata": {},
   "outputs": [],
   "source": [
    "import pandas as pd\n",
    "import numpy as np\n",
    "import talib\n",
    "from sklearn.preprocessing import LabelEncoder\n",
    "\n",
    "def calculate_rolling_features(df):\n",
    "    df['30D_MA'] = df.groupby('Ticker')['Close'].rolling(window=30).mean().reset_index(0, drop=True)\n",
    "    df['60D_MA'] = df.groupby('Ticker')['Close'].rolling(window=60).mean().reset_index(0, drop=True)\n",
    "    df['30D_STD'] = df.groupby('Ticker')['Close'].rolling(window=30).std().reset_index(0, drop=True)\n",
    "    return df\n",
    "\n",
    "def calculate_volatility(df):\n",
    "    df['Log_Return'] = np.log(df.groupby('Ticker')['Close'].pct_change() + 1)\n",
    "    df['Volatility'] = df.groupby('Ticker')['Log_Return'].rolling(window=20).std().reset_index(0, drop=True)\n",
    "    return df\n",
    "\n",
    "def calculate_talib_features(df):\n",
    "    df['RSI'] = talib.RSI(df['Close'], timeperiod=14)\n",
    "    df['MACD'], df['MACD_Signal'], df['MACD_Hist'] = talib.MACD(df['Close'], fastperiod=12, slowperiod=26, signalperiod=9)\n",
    "    df['ATR'] = talib.ATR(df['High'], df['Low'], df['Close'])\n",
    "    df['OBV'] = talib.OBV(df['Close'], df['Volume'])\n",
    "    return df\n",
    "\n",
    "def calculate_lagged_features(df):\n",
    "    for i in range(1, 6):\n",
    "        df[f'Close_Lag_{i}'] = df.groupby('Ticker')['Close'].shift(i)\n",
    "        df[f'Volume_Lag_{i}'] = df.groupby('Ticker')['Volume'].shift(i)\n",
    "    return df\n",
    "\n",
    "def calculate_rsi_features(df):\n",
    "    df['RSI_14'] = talib.RSI(df['Close'], timeperiod=14)\n",
    "    df['RSI_28'] = talib.RSI(df['Close'], timeperiod=28)\n",
    "    return df\n",
    "\n",
    "def calculate_bollinger_bands(df):\n",
    "    df['BB_upper'], df['BB_middle'], df['BB_lower'] = talib.BBANDS(df['Close'], timeperiod=20, nbdevup=2, nbdevdn=2, matype=0)\n",
    "    df['BB_Pct'] = (df['Close'] - df['BB_lower']) / (df['BB_upper'] - df['BB_lower'])\n",
    "    return df\n",
    "\n",
    "def calculate_sma_ema_features(df):\n",
    "    df['SMA_50'] = df.groupby('Ticker')['Close'].rolling(window=50).mean().reset_index(0, drop=True)\n",
    "    df['EMA_20'] = df.groupby('Ticker')['Close'].ewm(span=20, adjust=False).mean().reset_index(0, drop=True)\n",
    "    return df\n",
    "\n",
    "def calculate_obv_sma_ratio(df):\n",
    "    df['OBV_SMA_ratio'] = df['OBV'] / df['SMA_50']\n",
    "    return df\n",
    "\n",
    "def calculate_high_low_range(df):\n",
    "    df['High_Low_Range'] = df['High'] - df['Low']\n",
    "    return df\n",
    "\n",
    "def engineer_features(df):\n",
    "    df = calculate_rolling_features(df)\n",
    "    df = calculate_volatility(df)\n",
    "    df = calculate_talib_features(df)\n",
    "    df = calculate_lagged_features(df)\n",
    "    df = calculate_rsi_features(df)\n",
    "    df = calculate_bollinger_bands(df)\n",
    "    df = calculate_sma_ema_features(df)\n",
    "    df = calculate_obv_sma_ratio(df)\n",
    "    df = calculate_high_low_range(df)\n",
    "    return df\n",
    "\n",
    "\n"
   ]
  },
  {
   "cell_type": "code",
   "execution_count": 3,
   "metadata": {},
   "outputs": [
    {
     "ename": "ModuleNotFoundError",
     "evalue": "No module named 'data_loader'",
     "output_type": "error",
     "traceback": [
      "\u001b[0;31m---------------------------------------------------------------------------\u001b[0m",
      "\u001b[0;31mModuleNotFoundError\u001b[0m                       Traceback (most recent call last)",
      "Cell \u001b[0;32mIn[3], line 2\u001b[0m\n\u001b[1;32m      1\u001b[0m \u001b[38;5;28;01mimport\u001b[39;00m \u001b[38;5;21;01mpandas\u001b[39;00m \u001b[38;5;28;01mas\u001b[39;00m \u001b[38;5;21;01mpd\u001b[39;00m\n\u001b[0;32m----> 2\u001b[0m \u001b[38;5;28;01mfrom\u001b[39;00m \u001b[38;5;21;01mdata_loader\u001b[39;00m \u001b[38;5;28;01mimport\u001b[39;00m get_sp500_tickers, load_data\n\u001b[1;32m      3\u001b[0m \u001b[38;5;28;01mfrom\u001b[39;00m \u001b[38;5;21;01mfeature_engineering\u001b[39;00m \u001b[38;5;28;01mimport\u001b[39;00m engineer_features\n\u001b[1;32m      5\u001b[0m \u001b[38;5;28;01mif\u001b[39;00m \u001b[38;5;18m__name__\u001b[39m \u001b[38;5;241m==\u001b[39m \u001b[38;5;124m'\u001b[39m\u001b[38;5;124m__main__\u001b[39m\u001b[38;5;124m'\u001b[39m:\n",
      "\u001b[0;31mModuleNotFoundError\u001b[0m: No module named 'data_loader'"
     ]
    }
   ],
   "source": [
    "import pandas as pd\n",
    "from data_loader import get_sp500_tickers, load_data\n",
    "from feature_engineering import engineer_features\n",
    "\n",
    "if __name__ == '__main__':\n",
    "    tickers = get_sp500_tickers()\n",
    "    data = load_data(tickers, '2022-09-25', '2024-09-30')\n",
    "    data = engineer_features(data)\n",
    "    data.to_csv('sp500_stock_data.csv')\n",
    "    print(data.head())"
   ]
  },
  {
   "cell_type": "code",
   "execution_count": null,
   "metadata": {},
   "outputs": [],
   "source": []
  }
 ],
 "metadata": {
  "kernelspec": {
   "display_name": "test_env",
   "language": "python",
   "name": "python3"
  },
  "language_info": {
   "codemirror_mode": {
    "name": "ipython",
    "version": 3
   },
   "file_extension": ".py",
   "mimetype": "text/x-python",
   "name": "python",
   "nbconvert_exporter": "python",
   "pygments_lexer": "ipython3",
   "version": "3.12.5"
  }
 },
 "nbformat": 4,
 "nbformat_minor": 2
}
